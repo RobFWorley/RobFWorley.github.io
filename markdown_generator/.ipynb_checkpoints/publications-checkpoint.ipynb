{
 "cells": [
  {
   "cell_type": "markdown",
   "metadata": {},
   "source": [
    "## Import pandas\n",
    "\n",
    "We are using the very handy pandas library for dataframes."
   ]
  },
  {
   "cell_type": "markdown",
   "metadata": {},
   "source": [
    "# Publications markdown generator for academicpages\n",
    "\n",
    "Takes a TSV of publications with metadata and converts them for use with [academicpages.github.io](academicpages.github.io). This is an interactive Jupyter notebook ([see more info here](http://jupyter-notebook-beginner-guide.readthedocs.io/en/latest/what_is_jupyter.html)). The core python code is also in `publications.py`. Run either from the `markdown_generator` folder after replacing `publications.tsv` with one containing your data.\n",
    "\n",
    "TODO: Make this work with BibTex and other databases of citations, rather than Stuart's non-standard TSV format and citation style.\n"
   ]
  },
  {
   "cell_type": "markdown",
   "metadata": {},
   "source": [
    "## Data format\n",
    "\n",
    "The TSV needs to have the following columns: pub_date, title, venue, excerpt, citation, site_url, and paper_url, with a header at the top. \n",
    "\n",
    "- `excerpt` and `paper_url` can be blank, but the others must have values. \n",
    "- `pub_date` must be formatted as YYYY-MM-DD.\n",
    "- `url_slug` will be the descriptive part of the .md file and the permalink URL for the page about the paper. The .md file will be `YYYY-MM-DD-[url_slug].md` and the permalink will be `https://[yourdomain]/publications/YYYY-MM-DD-[url_slug]`\n",
    "\n",
    "This is how the raw file looks (it doesn't look pretty, use a spreadsheet or other program to edit and create)."
   ]
  },
  {
   "cell_type": "code",
   "execution_count": 1,
   "metadata": {},
   "outputs": [
    {
     "name": "stderr",
     "output_type": "stream",
     "text": [
      "'cat' is not recognized as an internal or external command,\n",
      "operable program or batch file.\n"
     ]
    }
   ],
   "source": [
    "!cat publications.tsv"
   ]
  },
  {
   "cell_type": "code",
   "execution_count": 2,
   "metadata": {},
   "outputs": [],
   "source": [
    "import pandas as pd"
   ]
  },
  {
   "cell_type": "markdown",
   "metadata": {},
   "source": [
    "## Import TSV\n",
    "\n",
    "Pandas makes this easy with the read_csv function. We are using a TSV, so we specify the separator as a tab, or `\\t`.\n",
    "\n",
    "I found it important to put this data in a tab-separated values format, because there are a lot of commas in this kind of data and comma-separated values can get messed up. However, you can modify the import statement, as pandas also has read_excel(), read_json(), and others."
   ]
  },
  {
   "cell_type": "code",
   "execution_count": 17,
   "metadata": {
    "scrolled": true
   },
   "outputs": [
    {
     "data": {
      "text/html": [
       "<div>\n",
       "<style scoped>\n",
       "    .dataframe tbody tr th:only-of-type {\n",
       "        vertical-align: middle;\n",
       "    }\n",
       "\n",
       "    .dataframe tbody tr th {\n",
       "        vertical-align: top;\n",
       "    }\n",
       "\n",
       "    .dataframe thead th {\n",
       "        text-align: right;\n",
       "    }\n",
       "</style>\n",
       "<table border=\"1\" class=\"dataframe\">\n",
       "  <thead>\n",
       "    <tr style=\"text-align: right;\">\n",
       "      <th></th>\n",
       "      <th>pub_date</th>\n",
       "      <th>title</th>\n",
       "      <th>venue</th>\n",
       "      <th>excerpt</th>\n",
       "      <th>citation</th>\n",
       "      <th>url_slug</th>\n",
       "      <th>paper_url</th>\n",
       "    </tr>\n",
       "  </thead>\n",
       "  <tbody>\n",
       "    <tr>\n",
       "      <th>0</th>\n",
       "      <td>06/05/2020</td>\n",
       "      <td>Topological Robot Localization in a Pipe Network</td>\n",
       "      <td>UKRAS20 Conference Robots into the real world ...</td>\n",
       "      <td>To do robot localization, the robot state to b...</td>\n",
       "      <td>Worley, R., Anderson, S. R. (2020). \"Topologic...</td>\n",
       "      <td>Topological_robot_localization_in_a_pipe_netwo...</td>\n",
       "      <td>http://robfworley.github.io/files/Topological_...</td>\n",
       "    </tr>\n",
       "    <tr>\n",
       "      <th>1</th>\n",
       "      <td>16/09/2020</td>\n",
       "      <td>Topological robot localization in a large-scal...</td>\n",
       "      <td>Towards Autonomous Robotic Systems: 21st Annua...</td>\n",
       "      <td>This paper evaluates the use of a topological ...</td>\n",
       "      <td>Worley, R., Anderson, S. R. (2020). \"Topologic...</td>\n",
       "      <td>Topological_robot_localization_in_a_large-scal...</td>\n",
       "      <td>http://robfworley.github.io/files/Topological_...</td>\n",
       "    </tr>\n",
       "    <tr>\n",
       "      <th>2</th>\n",
       "      <td>29/09/2020</td>\n",
       "      <td>Robot Localization in Water Pipes Using Acoust...</td>\n",
       "      <td>Sensors</td>\n",
       "      <td>This paper continues work done by a colleague,...</td>\n",
       "      <td>R. Worley et al., \"Robot Localization in Water...</td>\n",
       "      <td>Robot_localization_in_water_pipes_using_acoust...</td>\n",
       "      <td>http://robfworley.github.io/files/Robot_locali...</td>\n",
       "    </tr>\n",
       "    <tr>\n",
       "      <th>3</th>\n",
       "      <td>14/09/2020</td>\n",
       "      <td>Acoustic echo-localization for pipe inspection...</td>\n",
       "      <td>2020 IEEE International Conference on Multisen...</td>\n",
       "      <td>This paper proposes the use of acoustic echo s...</td>\n",
       "      <td>Worley, R., Yu, Y., Anderson, S. R. (2020).\"Ac...</td>\n",
       "      <td>Acoustic_echo-localization_for_pipe_inspection...</td>\n",
       "      <td>http://robfworley.github.io/files/Acoustic_ech...</td>\n",
       "    </tr>\n",
       "    <tr>\n",
       "      <th>4</th>\n",
       "      <td>31/08/2021</td>\n",
       "      <td>Robust efficient localization of robots in pip...</td>\n",
       "      <td>2021 European Conference on Mobile Robots (ECMR)</td>\n",
       "      <td>This paper proposes a hybrid continuous-discre...</td>\n",
       "      <td>Worley, R., Anderson, S. R. (2021). \"Robust ef...</td>\n",
       "      <td>Robust_efficient_localization_of_robots_in_pip...</td>\n",
       "      <td>http://robfworley.github.io/files/Robust_effic...</td>\n",
       "    </tr>\n",
       "    <tr>\n",
       "      <th>5</th>\n",
       "      <td>23/09/2021</td>\n",
       "      <td>Robot localization in a pipe network using a p...</td>\n",
       "      <td>2021 IEEE International Conference on Multisen...</td>\n",
       "      <td>This paper shows some improvements to an algor...</td>\n",
       "      <td>Worley, R., Anderson, S. R. (2021). \"Robot loc...</td>\n",
       "      <td>Robot_localization_in_a_pipe_network_using_a_p...</td>\n",
       "      <td>http://robfworley.github.io/files/Robot_locali...</td>\n",
       "    </tr>\n",
       "    <tr>\n",
       "      <th>6</th>\n",
       "      <td>21/02/2023</td>\n",
       "      <td>Acoustic Echo Sensing for Robot Localization i...</td>\n",
       "      <td>TechrXiv</td>\n",
       "      <td>This paper further develops the use of acousti...</td>\n",
       "      <td>Worley, R., Yu, Y., Horoshenkov, K. V., Anders...</td>\n",
       "      <td>Acoustic_echo_sensing_for_robot_localization_i...</td>\n",
       "      <td>http://robfworley.github.io/files/Acoustic_ech...</td>\n",
       "    </tr>\n",
       "  </tbody>\n",
       "</table>\n",
       "</div>"
      ],
      "text/plain": [
       "     pub_date                                              title  \\\n",
       "0  06/05/2020   Topological Robot Localization in a Pipe Network   \n",
       "1  16/09/2020  Topological robot localization in a large-scal...   \n",
       "2  29/09/2020  Robot Localization in Water Pipes Using Acoust...   \n",
       "3  14/09/2020  Acoustic echo-localization for pipe inspection...   \n",
       "4  31/08/2021  Robust efficient localization of robots in pip...   \n",
       "5  23/09/2021  Robot localization in a pipe network using a p...   \n",
       "6  21/02/2023  Acoustic Echo Sensing for Robot Localization i...   \n",
       "\n",
       "                                               venue  \\\n",
       "0  UKRAS20 Conference Robots into the real world ...   \n",
       "1  Towards Autonomous Robotic Systems: 21st Annua...   \n",
       "2                                            Sensors   \n",
       "3  2020 IEEE International Conference on Multisen...   \n",
       "4   2021 European Conference on Mobile Robots (ECMR)   \n",
       "5  2021 IEEE International Conference on Multisen...   \n",
       "6                                           TechrXiv   \n",
       "\n",
       "                                             excerpt  \\\n",
       "0  To do robot localization, the robot state to b...   \n",
       "1  This paper evaluates the use of a topological ...   \n",
       "2  This paper continues work done by a colleague,...   \n",
       "3  This paper proposes the use of acoustic echo s...   \n",
       "4  This paper proposes a hybrid continuous-discre...   \n",
       "5  This paper shows some improvements to an algor...   \n",
       "6  This paper further develops the use of acousti...   \n",
       "\n",
       "                                            citation  \\\n",
       "0  Worley, R., Anderson, S. R. (2020). \"Topologic...   \n",
       "1  Worley, R., Anderson, S. R. (2020). \"Topologic...   \n",
       "2  R. Worley et al., \"Robot Localization in Water...   \n",
       "3  Worley, R., Yu, Y., Anderson, S. R. (2020).\"Ac...   \n",
       "4  Worley, R., Anderson, S. R. (2021). \"Robust ef...   \n",
       "5  Worley, R., Anderson, S. R. (2021). \"Robot loc...   \n",
       "6  Worley, R., Yu, Y., Horoshenkov, K. V., Anders...   \n",
       "\n",
       "                                            url_slug  \\\n",
       "0  Topological_robot_localization_in_a_pipe_netwo...   \n",
       "1  Topological_robot_localization_in_a_large-scal...   \n",
       "2  Robot_localization_in_water_pipes_using_acoust...   \n",
       "3  Acoustic_echo-localization_for_pipe_inspection...   \n",
       "4  Robust_efficient_localization_of_robots_in_pip...   \n",
       "5  Robot_localization_in_a_pipe_network_using_a_p...   \n",
       "6  Acoustic_echo_sensing_for_robot_localization_i...   \n",
       "\n",
       "                                           paper_url  \n",
       "0  http://robfworley.github.io/files/Topological_...  \n",
       "1  http://robfworley.github.io/files/Topological_...  \n",
       "2  http://robfworley.github.io/files/Robot_locali...  \n",
       "3  http://robfworley.github.io/files/Acoustic_ech...  \n",
       "4  http://robfworley.github.io/files/Robust_effic...  \n",
       "5  http://robfworley.github.io/files/Robot_locali...  \n",
       "6  http://robfworley.github.io/files/Acoustic_ech...  "
      ]
     },
     "execution_count": 17,
     "metadata": {},
     "output_type": "execute_result"
    }
   ],
   "source": [
    "publications = pd.read_csv(\"publications.tsv\", sep=\"\\t\", header=0)\n",
    "publications\n"
   ]
  },
  {
   "cell_type": "markdown",
   "metadata": {},
   "source": [
    "## Escape special characters\n",
    "\n",
    "YAML is very picky about how it takes a valid string, so we are replacing single and double quotes (and ampersands) with their HTML encoded equivilents. This makes them look not so readable in raw format, but they are parsed and rendered nicely."
   ]
  },
  {
   "cell_type": "code",
   "execution_count": 18,
   "metadata": {},
   "outputs": [],
   "source": [
    "html_escape_table = {\n",
    "    \"&\": \"&amp;\",\n",
    "    '\"': \"&quot;\",\n",
    "    \"'\": \"&apos;\"\n",
    "    }\n",
    "\n",
    "def html_escape(text):\n",
    "    \"\"\"Produce entities within text.\"\"\"\n",
    "    return \"\".join(html_escape_table.get(c,c) for c in text)"
   ]
  },
  {
   "cell_type": "markdown",
   "metadata": {},
   "source": [
    "## Creating the markdown files\n",
    "\n",
    "This is where the heavy lifting is done. This loops through all the rows in the TSV dataframe, then starts to concatentate a big string (```md```) that contains the markdown for each type. It does the YAML metadata first, then does the description for the individual page."
   ]
  },
  {
   "cell_type": "code",
   "execution_count": 19,
   "metadata": {},
   "outputs": [],
   "source": [
    "import os\n",
    "for row, item in publications.iterrows():\n",
    "    \n",
    "    md_filename = str(item.pub_date) + \"-\" + item.url_slug + \".md\"\n",
    "    html_filename = str(item.pub_date) + \"-\" + item.url_slug\n",
    "    year = item.pub_date[:4]\n",
    "    \n",
    "    ## YAML variables\n",
    "    \n",
    "    md = \"---\\ntitle: \\\"\"   + item.title + '\"\\n'\n",
    "    \n",
    "    md += \"\"\"collection: publications\"\"\"\n",
    "    \n",
    "    md += \"\"\"\\npermalink: /publication/\"\"\" + html_filename\n",
    "    \n",
    "    if len(str(item.excerpt)) > 5:\n",
    "        md += \"\\nexcerpt: '\" + html_escape(item.excerpt) + \"'\"\n",
    "    \n",
    "    md += \"\\ndate: \" + str(item.pub_date) \n",
    "    \n",
    "    md += \"\\nstatus: \" + str(item.status) \n",
    "    \n",
    "    md += \"\\nvenue: '\" + html_escape(item.venue) + \"'\"\n",
    "    \n",
    "    if len(str(item.paper_url)) > 5:\n",
    "        md += \"\\npaperurl: '\" + item.paper_url + \"'\"\n",
    "    \n",
    "    md += \"\\ncitation: '\" + html_escape(item.citation) + \"'\"\n",
    "    \n",
    "    md += \"\\n---\"\n",
    "    \n",
    "    ## Markdown description for individual page\n",
    "        \n",
    "    if len(str(item.excerpt)) > 5:\n",
    "        md += \"\\n\" + html_escape(item.excerpt) + \"\\n\"\n",
    "    \n",
    "    if len(str(item.paper_url)) > 5:\n",
    "        md += \"\\n[Download paper here](\" + item.paper_url + \")\\n\" \n",
    "        \n",
    "    md += \"\\nRecommended citation: \" + item.citation\n",
    "    \n",
    "    md_filename = os.path.basename(md_filename)\n",
    "       \n",
    "    with open(\"../_publications/\" + md_filename, 'w') as f:\n",
    "        f.write(md)"
   ]
  },
  {
   "cell_type": "markdown",
   "metadata": {},
   "source": [
    "These files are in the publications directory, one directory below where we're working from."
   ]
  },
  {
   "cell_type": "code",
   "execution_count": 6,
   "metadata": {},
   "outputs": [
    {
     "name": "stderr",
     "output_type": "stream",
     "text": [
      "'ls' is not recognized as an internal or external command,\n",
      "operable program or batch file.\n"
     ]
    }
   ],
   "source": [
    "!ls ../_publications/"
   ]
  },
  {
   "cell_type": "code",
   "execution_count": 7,
   "metadata": {},
   "outputs": [
    {
     "name": "stderr",
     "output_type": "stream",
     "text": [
      "'cat' is not recognized as an internal or external command,\n",
      "operable program or batch file.\n"
     ]
    }
   ],
   "source": [
    "!cat ../_publications/2009-10-01-paper-title-number-1.md"
   ]
  },
  {
   "cell_type": "code",
   "execution_count": null,
   "metadata": {
    "collapsed": true
   },
   "outputs": [],
   "source": []
  }
 ],
 "metadata": {
  "kernelspec": {
   "display_name": "Python 3 (ipykernel)",
   "language": "python",
   "name": "python3"
  },
  "language_info": {
   "codemirror_mode": {
    "name": "ipython",
    "version": 3
   },
   "file_extension": ".py",
   "mimetype": "text/x-python",
   "name": "python",
   "nbconvert_exporter": "python",
   "pygments_lexer": "ipython3",
   "version": "3.10.10"
  }
 },
 "nbformat": 4,
 "nbformat_minor": 1
}
