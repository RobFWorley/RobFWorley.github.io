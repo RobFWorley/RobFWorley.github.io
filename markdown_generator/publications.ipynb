{
 "cells": [
  {
   "cell_type": "markdown",
   "metadata": {},
   "source": [
    "## Import pandas\n",
    "\n",
    "We are using the very handy pandas library for dataframes."
   ]
  },
  {
   "cell_type": "markdown",
   "metadata": {},
   "source": [
    "# Publications markdown generator for academicpages\n",
    "\n",
    "Takes a TSV of publications with metadata and converts them for use with [academicpages.github.io](academicpages.github.io). This is an interactive Jupyter notebook ([see more info here](http://jupyter-notebook-beginner-guide.readthedocs.io/en/latest/what_is_jupyter.html)). The core python code is also in `publications.py`. Run either from the `markdown_generator` folder after replacing `publications.tsv` with one containing your data.\n",
    "\n",
    "TODO: Make this work with BibTex and other databases of citations, rather than Stuart's non-standard TSV format and citation style.\n"
   ]
  },
  {
   "cell_type": "markdown",
   "metadata": {},
   "source": [
    "## Data format\n",
    "\n",
    "The TSV needs to have the following columns: pub_date, title, venue, excerpt, citation, site_url, and paper_url, with a header at the top. \n",
    "\n",
    "- `excerpt` and `paper_url` can be blank, but the others must have values. \n",
    "- `pub_date` must be formatted as YYYY-MM-DD.\n",
    "- `url_slug` will be the descriptive part of the .md file and the permalink URL for the page about the paper. The .md file will be `YYYY-MM-DD-[url_slug].md` and the permalink will be `https://[yourdomain]/publications/YYYY-MM-DD-[url_slug]`\n",
    "\n",
    "This is how the raw file looks (it doesn't look pretty, use a spreadsheet or other program to edit and create)."
   ]
  },
  {
   "cell_type": "code",
   "execution_count": 4,
   "metadata": {},
   "outputs": [
    {
     "name": "stdout",
     "output_type": "stream",
     "text": [
      "pub_date\ttitle\tvenue\texcerpt\tcitation\turl_slug\tpaper_url\n",
      "06/05/2020\tTopological Robot Localization in a Pipe Network\tUKRAS20 Conference Robots into the real world Proceedings\t\"To do robot localization, the robot state to be estimate has to be defined. This paper proposes the use of a discrete (topological) robot state definition for robots in pipe networks, as an alternative to the traditional continuous (metric) approach which is not well suited to this constrained environment.\"\t\"Worley, R., Anderson, S. R. (2020). \"\"Topological Robot Localization in a Pipe Network\"\" <i>UKRAS20 Conference Robots into the real world Proceedings</i>\"\tTopological robot localization in a pipe network\thttp://academicpages.github.io/files/Topological robot localization in a pipe network.pdf\n",
      "16/09/2020\tTopological robot localization in a large-scale water pipe network\t\"Towards Autonomous Robotic Systems: 21st Annual Conference, TAROS 2020, Nottingham, UK, September 16, 2020, Proceedings 21\"\t\"This paper evaluates the use of a topological robot state definition for robots in pipe networks proposed in my previous work. The sources of uncertainty which cause an increase in estimate error are identified. Alternative state definitions are propsed which result in different values of efficiency, in terms of estimate accuracy relative to the required computational time. On reflection, the attempt to improve efficiency by using the proposed state definition went too far away from the typical state definition; this motivated further work to find a compromise between the two approaches.\"\t\"Worley, R., Anderson, S. R. (2020). \"\"Topological robot localization in a large-scale water pipe network\"\" <i>Towards Autonomous Robotic Systems: 21st Annual Conference, TAROS 2020, Nottingham, UK, September 16, 2020, Proceedings 21.</i>\"\tTopological robot localization in a large-scale water pipe network\thttp://academicpages.github.io/files/Topological robot localization in a large-scale water pipe network.pdf\n",
      "29/09/2020\tRobot Localization in Water Pipes Using Acoustic Signals and Pose Graph Optimization\tSensors\t\"This paper continues work done by a colleague, which uses a hydrophone sensor to measure a physical property of a pipe. This varies when the measurement is made by a robot at different points along the pipe, and therefore can be used to localize a robot. This work develops this localization approach by applying the sensing approach to pose-graph optimization. On reflection, this work shows that this sensing could be useful in the case where sensors like vision are unavailable or unsuitable due to the feature-sparseness of the pipe. However, like the use of vision, this approach suffers from a fundamental limitation on its perspective, which motivates further work to overcome this.\"\t\"R. Worley et al., “Robot Localization in Water Pipes Using Acoustic Signals and Pose Graph Optimization,” Sensors, vol. 20, no. 19, p. 5584, Sep. 2020, doi: 10.3390/s20195584.\"\tRobot Localization in Water Pipes Using Acoustic Signals and Pose Graph Optimization\thttp://academicpages.github.io/files/Robot Localization in Water Pipes Using Acoustic Signals and Pose Graph Optimization.pdf\n",
      "14/09/2020\tAcoustic echo-localization for pipe inspection robots\t2020 IEEE International Conference on Multisensor Fusion and Integration for Intelligent Systems (MFI)\t\"This paper proposes the use of acoustic echo sensing for robots in pipe networks, and develops an algorithm for using this sensing in localization. This sensing approach increases the robot's perspective compared to the use of typical sensors such as vision, which are limited in range in this environment.\"\t\"Worley, R., Yu, Y., Anderson, S. R. (2020).\"\"Acoustic echo-localization for pipe inspection robots\"\" <i>2020 IEEE International Conference on Multisensor Fusion and Integration for Intelligent Systems (MFI)</i>, Karlsruhe, Germany, 2020, pp. 160-165, doi: 10.1109/MFI49285.2020.9235225.\"\tAcoustic echo-localization for pipe inspection robots\thttp://academicpages.github.io/files/Acoustic echo-localization for pipe inspection robots.pdf\n",
      "31/08/2021\tRobust efficient localization of robots in pipe networks using a particle filter for hybrid metric-topological space\t2021 European Conference on Mobile Robots (ECMR)\t\"This paper proposes a hybrid continuous-discrete (metric-topological) robot state definition for robots in pipe networks, overcoming the limitations of the approach proposed in my previous work, and finding a middle ground between that and alternatives presented in existing literature\"\t\"Worley, R., Anderson, S. R. (2021). \"\"Robust efficient localization of robots in pipe networks using a particle filter for hybrid metric-topological space\"\" <i>2021 European Conference on Mobile Robots (ECMR)</i>.\"\tRobust efficient localization of robots in pipe networks using a particle filter for hybrid metric-topological space\thttp://academicpages.github.io/files/Robust efficient localization of robots in pipe networks using a particle filter for hybrid metric-topological space.pdf\n",
      "23/09/2021\tRobot localization in a pipe network using a particle filter with error detection and recovery in a hybrid metric-topological space\t2021 IEEE International Conference on Multisensor Fusion and Integration (MFI 2021)\t\"This paper shows some improvements to an algorithm based on a hybrid continuous-discrete (metric-topological) robot state definition. Specifically, it presents an approach to the challenging problem of error detection in this environment in the case of limited sensor information, and it presents an approach to error recovery which uses the constraints of the environment to its advantage.\"\t\"Worley, R., Anderson, S. R. (2021). \"\"Robot localization in a pipe network using a particle filter with error detection and recovery in a hybrid metric-topological space\"\" <i>2021 IEEE International Conference on Multisensor Fusion and Integration (MFI 2021)</i>.\"\tRobot localization in a pipe network using a particle filter with error detection and recovery in a hybrid metric-topological space\thttp://academicpages.github.io/files/Robot localization in a pipe network using a particle filter with error detection and recovery in a hybrid metric-topological space.pdf\n"
     ]
    }
   ],
   "source": [
    "!cat publications.tsv"
   ]
  },
  {
   "cell_type": "code",
   "execution_count": 1,
   "metadata": {},
   "outputs": [],
   "source": [
    "import pandas as pd"
   ]
  },
  {
   "cell_type": "markdown",
   "metadata": {},
   "source": [
    "## Import TSV\n",
    "\n",
    "Pandas makes this easy with the read_csv function. We are using a TSV, so we specify the separator as a tab, or `\\t`.\n",
    "\n",
    "I found it important to put this data in a tab-separated values format, because there are a lot of commas in this kind of data and comma-separated values can get messed up. However, you can modify the import statement, as pandas also has read_excel(), read_json(), and others."
   ]
  },
  {
   "cell_type": "code",
   "execution_count": 6,
   "metadata": {},
   "outputs": [
    {
     "data": {
      "text/html": [
       "<div>\n",
       "<style scoped>\n",
       "    .dataframe tbody tr th:only-of-type {\n",
       "        vertical-align: middle;\n",
       "    }\n",
       "\n",
       "    .dataframe tbody tr th {\n",
       "        vertical-align: top;\n",
       "    }\n",
       "\n",
       "    .dataframe thead th {\n",
       "        text-align: right;\n",
       "    }\n",
       "</style>\n",
       "<table border=\"1\" class=\"dataframe\">\n",
       "  <thead>\n",
       "    <tr style=\"text-align: right;\">\n",
       "      <th></th>\n",
       "      <th>pub_date</th>\n",
       "      <th>title</th>\n",
       "      <th>venue</th>\n",
       "      <th>excerpt</th>\n",
       "      <th>citation</th>\n",
       "      <th>url_slug</th>\n",
       "      <th>paper_url</th>\n",
       "    </tr>\n",
       "  </thead>\n",
       "  <tbody>\n",
       "    <tr>\n",
       "      <th>0</th>\n",
       "      <td>06/05/2020</td>\n",
       "      <td>Topological Robot Localization in a Pipe Network</td>\n",
       "      <td>UKRAS20 Conference Robots into the real world ...</td>\n",
       "      <td>To do robot localization, the robot state to b...</td>\n",
       "      <td>Worley, R., Anderson, S. R. (2020). \"Topologic...</td>\n",
       "      <td>Topological robot localization in a pipe network</td>\n",
       "      <td>http://academicpages.github.io/files/Topologic...</td>\n",
       "    </tr>\n",
       "    <tr>\n",
       "      <th>1</th>\n",
       "      <td>16/09/2020</td>\n",
       "      <td>Topological robot localization in a large-scal...</td>\n",
       "      <td>Towards Autonomous Robotic Systems: 21st Annua...</td>\n",
       "      <td>This paper evaluates the use of a topological ...</td>\n",
       "      <td>Worley, R., Anderson, S. R. (2020). \"Topologic...</td>\n",
       "      <td>Topological robot localization in a large-scal...</td>\n",
       "      <td>http://academicpages.github.io/files/Topologic...</td>\n",
       "    </tr>\n",
       "    <tr>\n",
       "      <th>2</th>\n",
       "      <td>29/09/2020</td>\n",
       "      <td>Robot Localization in Water Pipes Using Acoust...</td>\n",
       "      <td>Sensors</td>\n",
       "      <td>This paper continues work done by a colleague,...</td>\n",
       "      <td>R. Worley et al., \"Robot Localization in Water...</td>\n",
       "      <td>Robot Localization in Water Pipes Using Acoust...</td>\n",
       "      <td>http://academicpages.github.io/files/Robot Loc...</td>\n",
       "    </tr>\n",
       "    <tr>\n",
       "      <th>3</th>\n",
       "      <td>14/09/2020</td>\n",
       "      <td>Acoustic echo-localization for pipe inspection...</td>\n",
       "      <td>2020 IEEE International Conference on Multisen...</td>\n",
       "      <td>This paper proposes the use of acoustic echo s...</td>\n",
       "      <td>Worley, R., Yu, Y., Anderson, S. R. (2020).\"Ac...</td>\n",
       "      <td>Acoustic echo-localization for pipe inspection...</td>\n",
       "      <td>http://academicpages.github.io/files/Acoustic ...</td>\n",
       "    </tr>\n",
       "    <tr>\n",
       "      <th>4</th>\n",
       "      <td>31/08/2021</td>\n",
       "      <td>Robust efficient localization of robots in pip...</td>\n",
       "      <td>2021 European Conference on Mobile Robots (ECMR)</td>\n",
       "      <td>This paper proposes a hybrid continuous-discre...</td>\n",
       "      <td>Worley, R., Anderson, S. R. (2021). \"Robust ef...</td>\n",
       "      <td>Robust efficient localization of robots in pip...</td>\n",
       "      <td>http://academicpages.github.io/files/Robust ef...</td>\n",
       "    </tr>\n",
       "    <tr>\n",
       "      <th>5</th>\n",
       "      <td>23/09/2021</td>\n",
       "      <td>Robot localization in a pipe network using a p...</td>\n",
       "      <td>2021 IEEE International Conference on Multisen...</td>\n",
       "      <td>This paper shows some improvements to an algor...</td>\n",
       "      <td>Worley, R., Anderson, S. R. (2021). \"Robot loc...</td>\n",
       "      <td>Robot localization in a pipe network using a p...</td>\n",
       "      <td>http://academicpages.github.io/files/Robot loc...</td>\n",
       "    </tr>\n",
       "  </tbody>\n",
       "</table>\n",
       "</div>"
      ],
      "text/plain": [
       "     pub_date                                              title  \\\n",
       "0  06/05/2020   Topological Robot Localization in a Pipe Network   \n",
       "1  16/09/2020  Topological robot localization in a large-scal...   \n",
       "2  29/09/2020  Robot Localization in Water Pipes Using Acoust...   \n",
       "3  14/09/2020  Acoustic echo-localization for pipe inspection...   \n",
       "4  31/08/2021  Robust efficient localization of robots in pip...   \n",
       "5  23/09/2021  Robot localization in a pipe network using a p...   \n",
       "\n",
       "                                               venue  \\\n",
       "0  UKRAS20 Conference Robots into the real world ...   \n",
       "1  Towards Autonomous Robotic Systems: 21st Annua...   \n",
       "2                                            Sensors   \n",
       "3  2020 IEEE International Conference on Multisen...   \n",
       "4   2021 European Conference on Mobile Robots (ECMR)   \n",
       "5  2021 IEEE International Conference on Multisen...   \n",
       "\n",
       "                                             excerpt  \\\n",
       "0  To do robot localization, the robot state to b...   \n",
       "1  This paper evaluates the use of a topological ...   \n",
       "2  This paper continues work done by a colleague,...   \n",
       "3  This paper proposes the use of acoustic echo s...   \n",
       "4  This paper proposes a hybrid continuous-discre...   \n",
       "5  This paper shows some improvements to an algor...   \n",
       "\n",
       "                                            citation  \\\n",
       "0  Worley, R., Anderson, S. R. (2020). \"Topologic...   \n",
       "1  Worley, R., Anderson, S. R. (2020). \"Topologic...   \n",
       "2  R. Worley et al., \"Robot Localization in Water...   \n",
       "3  Worley, R., Yu, Y., Anderson, S. R. (2020).\"Ac...   \n",
       "4  Worley, R., Anderson, S. R. (2021). \"Robust ef...   \n",
       "5  Worley, R., Anderson, S. R. (2021). \"Robot loc...   \n",
       "\n",
       "                                            url_slug  \\\n",
       "0   Topological robot localization in a pipe network   \n",
       "1  Topological robot localization in a large-scal...   \n",
       "2  Robot Localization in Water Pipes Using Acoust...   \n",
       "3  Acoustic echo-localization for pipe inspection...   \n",
       "4  Robust efficient localization of robots in pip...   \n",
       "5  Robot localization in a pipe network using a p...   \n",
       "\n",
       "                                           paper_url  \n",
       "0  http://academicpages.github.io/files/Topologic...  \n",
       "1  http://academicpages.github.io/files/Topologic...  \n",
       "2  http://academicpages.github.io/files/Robot Loc...  \n",
       "3  http://academicpages.github.io/files/Acoustic ...  \n",
       "4  http://academicpages.github.io/files/Robust ef...  \n",
       "5  http://academicpages.github.io/files/Robot loc...  "
      ]
     },
     "execution_count": 6,
     "metadata": {},
     "output_type": "execute_result"
    }
   ],
   "source": [
    "publications = pd.read_csv(\"publications.tsv\", sep=\"\\t\", header=0)\n",
    "publications\n"
   ]
  },
  {
   "cell_type": "markdown",
   "metadata": {},
   "source": [
    "## Escape special characters\n",
    "\n",
    "YAML is very picky about how it takes a valid string, so we are replacing single and double quotes (and ampersands) with their HTML encoded equivilents. This makes them look not so readable in raw format, but they are parsed and rendered nicely."
   ]
  },
  {
   "cell_type": "code",
   "execution_count": 7,
   "metadata": {},
   "outputs": [],
   "source": [
    "html_escape_table = {\n",
    "    \"&\": \"&amp;\",\n",
    "    '\"': \"&quot;\",\n",
    "    \"'\": \"&apos;\"\n",
    "    }\n",
    "\n",
    "def html_escape(text):\n",
    "    \"\"\"Produce entities within text.\"\"\"\n",
    "    return \"\".join(html_escape_table.get(c,c) for c in text)"
   ]
  },
  {
   "cell_type": "markdown",
   "metadata": {},
   "source": [
    "## Creating the markdown files\n",
    "\n",
    "This is where the heavy lifting is done. This loops through all the rows in the TSV dataframe, then starts to concatentate a big string (```md```) that contains the markdown for each type. It does the YAML metadata first, then does the description for the individual page."
   ]
  },
  {
   "cell_type": "code",
   "execution_count": 8,
   "metadata": {},
   "outputs": [],
   "source": [
    "import os\n",
    "for row, item in publications.iterrows():\n",
    "    \n",
    "    md_filename = str(item.pub_date) + \"-\" + item.url_slug + \".md\"\n",
    "    html_filename = str(item.pub_date) + \"-\" + item.url_slug\n",
    "    year = item.pub_date[:4]\n",
    "    \n",
    "    ## YAML variables\n",
    "    \n",
    "    md = \"---\\ntitle: \\\"\"   + item.title + '\"\\n'\n",
    "    \n",
    "    md += \"\"\"collection: publications\"\"\"\n",
    "    \n",
    "    md += \"\"\"\\npermalink: /publication/\"\"\" + html_filename\n",
    "    \n",
    "    if len(str(item.excerpt)) > 5:\n",
    "        md += \"\\nexcerpt: '\" + html_escape(item.excerpt) + \"'\"\n",
    "    \n",
    "    md += \"\\ndate: \" + str(item.pub_date) \n",
    "    \n",
    "    md += \"\\nvenue: '\" + html_escape(item.venue) + \"'\"\n",
    "    \n",
    "    if len(str(item.paper_url)) > 5:\n",
    "        md += \"\\npaperurl: '\" + item.paper_url + \"'\"\n",
    "    \n",
    "    md += \"\\ncitation: '\" + html_escape(item.citation) + \"'\"\n",
    "    \n",
    "    md += \"\\n---\"\n",
    "    \n",
    "    ## Markdown description for individual page\n",
    "        \n",
    "    if len(str(item.excerpt)) > 5:\n",
    "        md += \"\\n\" + html_escape(item.excerpt) + \"\\n\"\n",
    "    \n",
    "    if len(str(item.paper_url)) > 5:\n",
    "        md += \"\\n[Download paper here](\" + item.paper_url + \")\\n\" \n",
    "        \n",
    "    md += \"\\nRecommended citation: \" + item.citation\n",
    "    \n",
    "    md_filename = os.path.basename(md_filename)\n",
    "       \n",
    "    with open(\"../_publications/\" + md_filename, 'w') as f:\n",
    "        f.write(md)"
   ]
  },
  {
   "cell_type": "markdown",
   "metadata": {},
   "source": [
    "These files are in the publications directory, one directory below where we're working from."
   ]
  },
  {
   "cell_type": "code",
   "execution_count": 10,
   "metadata": {},
   "outputs": [
    {
     "name": "stderr",
     "output_type": "stream",
     "text": [
      "'ls' is not recognized as an internal or external command,\n",
      "operable program or batch file.\n"
     ]
    }
   ],
   "source": [
    "!ls ../_publications/"
   ]
  },
  {
   "cell_type": "code",
   "execution_count": 7,
   "metadata": {},
   "outputs": [
    {
     "name": "stdout",
     "output_type": "stream",
     "text": [
      "---\r\n",
      "title: \"Paper Title Number 1\"\r\n",
      "collection: publications\r\n",
      "permalink: /publication/2009-10-01-paper-title-number-1\r\n",
      "excerpt: 'This paper is about the number 1. The number 2 is left for future work.'\r\n",
      "date: 2009-10-01\r\n",
      "venue: 'Journal 1'\r\n",
      "paperurl: 'http://academicpages.github.io/files/paper1.pdf'\r\n",
      "citation: 'Your Name, You. (2009). &quot;Paper Title Number 1.&quot; <i>Journal 1</i>. 1(1).'\r\n",
      "---\r\n",
      "This paper is about the number 1. The number 2 is left for future work.\r\n",
      "\r\n",
      "[Download paper here](http://academicpages.github.io/files/paper1.pdf)\r\n",
      "\r\n",
      "Recommended citation: Your Name, You. (2009). \"Paper Title Number 1.\" <i>Journal 1</i>. 1(1)."
     ]
    }
   ],
   "source": [
    "!cat ../_publications/2009-10-01-paper-title-number-1.md"
   ]
  },
  {
   "cell_type": "code",
   "execution_count": null,
   "metadata": {
    "collapsed": true
   },
   "outputs": [],
   "source": []
  }
 ],
 "metadata": {
  "kernelspec": {
   "display_name": "Python 3 (ipykernel)",
   "language": "python",
   "name": "python3"
  },
  "language_info": {
   "codemirror_mode": {
    "name": "ipython",
    "version": 3
   },
   "file_extension": ".py",
   "mimetype": "text/x-python",
   "name": "python",
   "nbconvert_exporter": "python",
   "pygments_lexer": "ipython3",
   "version": "3.10.10"
  }
 },
 "nbformat": 4,
 "nbformat_minor": 1
}
